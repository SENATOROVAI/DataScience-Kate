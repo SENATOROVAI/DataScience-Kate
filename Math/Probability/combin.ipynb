{
 "cells": [
  {
   "cell_type": "code",
   "execution_count": null,
   "metadata": {},
   "outputs": [],
   "source": [
    "\"\"\"Здесь будет расписана ТЕОРИЯ ВЕРОЯТНОСТИ.\"\"\""
   ]
  }
 ],
 "metadata": {
  "language_info": {
   "name": "python"
  }
 },
 "nbformat": 4,
 "nbformat_minor": 2
}
