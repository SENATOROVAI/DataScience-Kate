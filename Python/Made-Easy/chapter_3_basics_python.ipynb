{
 "cells": [
  {
   "cell_type": "code",
   "execution_count": 2,
   "metadata": {},
   "outputs": [
    {
     "data": {
      "text/plain": [
       "'basics_python'"
      ]
     },
     "execution_count": 2,
     "metadata": {},
     "output_type": "execute_result"
    }
   ],
   "source": [
    "\"\"\"basics_python.\"\"\""
   ]
  },
  {
   "cell_type": "markdown",
   "metadata": {},
   "source": [
    "### Использование Spyder IDE ###\n",
    "### Использование Jupyter Notebook ###\n",
    "### Мы будем работать в Visual Studio Code ###\n",
    "**\"Hello World\"**</p>\n",
    "**1. Числа**</p>\n",
    "<p>Арифметические операторы: +, -, *, /.</p>\n",
    "<p>Круглые скобки исполльзуются для группировки ().</p>\n",
    "<p>Целые числа имеют тип int.</p>\n",
    "<p>Числа с дробной частью имеют тип float.</p>\n",
    "<p>Оператор деления / всегда возвращает тип float</p>\n",
    "<p>Что бы выполнить целочисленое деление, отбросив дробную часть над использовать оператор //.</p>\n",
    "<p>Что бы вычислить остаток используем оператор %.</p>\n",
    "<p>Для вычисления степени можно использовать оператор **.</p>\n",
    "<p>Знак равенства используется для присвоения значения переменной. После присвоения результат не отображается.</p>\n"
   ]
  },
  {
   "cell_type": "code",
   "execution_count": 3,
   "metadata": {},
   "outputs": [
    {
     "name": "stdout",
     "output_type": "stream",
     "text": [
      "Hello World!\n"
     ]
    }
   ],
   "source": [
    "print(\"Hello World!\")"
   ]
  },
  {
   "cell_type": "code",
   "execution_count": 4,
   "metadata": {},
   "outputs": [
    {
     "data": {
      "text/plain": [
       "4"
      ]
     },
     "execution_count": 4,
     "metadata": {},
     "output_type": "execute_result"
    }
   ],
   "source": [
    "2 + 2"
   ]
  },
  {
   "cell_type": "code",
   "execution_count": 5,
   "metadata": {},
   "outputs": [
    {
     "data": {
      "text/plain": [
       "20"
      ]
     },
     "execution_count": 5,
     "metadata": {},
     "output_type": "execute_result"
    }
   ],
   "source": [
    "50 - 5 * 6"
   ]
  },
  {
   "cell_type": "code",
   "execution_count": 6,
   "metadata": {},
   "outputs": [
    {
     "data": {
      "text/plain": [
       "5.0"
      ]
     },
     "execution_count": 6,
     "metadata": {},
     "output_type": "execute_result"
    }
   ],
   "source": [
    "(50 - 5 * 6) / 4"
   ]
  },
  {
   "cell_type": "code",
   "execution_count": 7,
   "metadata": {},
   "outputs": [
    {
     "data": {
      "text/plain": [
       "1.6"
      ]
     },
     "execution_count": 7,
     "metadata": {},
     "output_type": "execute_result"
    }
   ],
   "source": [
    "8 / 5  # результат деления всегда с плавающей точкой"
   ]
  },
  {
   "cell_type": "code",
   "execution_count": 8,
   "metadata": {},
   "outputs": [
    {
     "data": {
      "text/plain": [
       "5.666666666666667"
      ]
     },
     "execution_count": 8,
     "metadata": {},
     "output_type": "execute_result"
    }
   ],
   "source": [
    "17 / 3  # обычное деление с плавающей точкой"
   ]
  },
  {
   "cell_type": "code",
   "execution_count": 9,
   "metadata": {},
   "outputs": [
    {
     "data": {
      "text/plain": [
       "5"
      ]
     },
     "execution_count": 9,
     "metadata": {},
     "output_type": "execute_result"
    }
   ],
   "source": [
    "17 // 3  # целочисленное деление"
   ]
  },
  {
   "cell_type": "code",
   "execution_count": 10,
   "metadata": {},
   "outputs": [
    {
     "data": {
      "text/plain": [
       "2"
      ]
     },
     "execution_count": 10,
     "metadata": {},
     "output_type": "execute_result"
    }
   ],
   "source": [
    "17 % 3  # остаток от деления"
   ]
  },
  {
   "cell_type": "code",
   "execution_count": 11,
   "metadata": {},
   "outputs": [
    {
     "data": {
      "text/plain": [
       "17"
      ]
     },
     "execution_count": 11,
     "metadata": {},
     "output_type": "execute_result"
    }
   ],
   "source": [
    "5 * 3 + 2  # проверка: результат * делитель + остаток"
   ]
  },
  {
   "cell_type": "code",
   "execution_count": 12,
   "metadata": {},
   "outputs": [
    {
     "data": {
      "text/plain": [
       "25"
      ]
     },
     "execution_count": 12,
     "metadata": {},
     "output_type": "execute_result"
    }
   ],
   "source": [
    "5**2  # 5 в квадрате"
   ]
  },
  {
   "cell_type": "code",
   "execution_count": 13,
   "metadata": {},
   "outputs": [
    {
     "data": {
      "text/plain": [
       "128"
      ]
     },
     "execution_count": 13,
     "metadata": {},
     "output_type": "execute_result"
    }
   ],
   "source": [
    "2**7  # 2 в степени 7"
   ]
  },
  {
   "cell_type": "code",
   "execution_count": 14,
   "metadata": {},
   "outputs": [],
   "source": [
    "width = 20\n",
    "height = 5 * 9\n",
    "# мы присвоили значение двум переменным, этот код ничего не возвращает"
   ]
  },
  {
   "cell_type": "markdown",
   "metadata": {},
   "source": [
    "**2. Строки**</p>\n",
    "<p>Помимо чисел Python может также работать со строками, которые можно задавать несколькими способами.</p>\n",
    "<p>Они могут быть заключены в одинарные '...' кавычки или двойные \"...\" кавычки.</p>\n",
    "<p>Для экранирования кавычек используйте символ обратной косой черты\\.</p>\n",
    "<p>Функция print () позволяет получить более читаемый вывод, опустить кавычки и вывести экранированные и специальные символы.</p>\n",
    "<p>Управляющие символы: \\t - табуляция внутри строки, \\n - перенос следующего за ним текста на следующую строку, r - перед первой кавычкой  - прочтение упрапвляющих символов как обычные знаки и буквы.</p>\n"
   ]
  },
  {
   "cell_type": "code",
   "execution_count": 15,
   "metadata": {},
   "outputs": [
    {
     "name": "stdout",
     "output_type": "stream",
     "text": [
      "does\n",
      "'t\n"
     ]
    }
   ],
   "source": [
    "print(\"does\\n't\")"
   ]
  },
  {
   "cell_type": "code",
   "execution_count": 16,
   "metadata": {},
   "outputs": [
    {
     "name": "stdout",
     "output_type": "stream",
     "text": [
      "now \tdoesn't\n"
     ]
    }
   ],
   "source": [
    "print(\"now \\tdoesn't\")"
   ]
  },
  {
   "cell_type": "code",
   "execution_count": 31,
   "metadata": {},
   "outputs": [
    {
     "name": "stdout",
     "output_type": "stream",
     "text": [
      "doesn't\\t\n"
     ]
    }
   ],
   "source": [
    "print(r\"doesn't\\t\")"
   ]
  },
  {
   "cell_type": "markdown",
   "metadata": {},
   "source": [
    "<p>Строки можно объединять с помощь оператора + КОНКАТЕНАЦИЯ.</p>\n",
    "<p>Строки можно повторять с помощью оператора * ПОВТОРЕНИЕ.</p>\n",
    "<p>Две и более строки заключенные в кавычки расположенные рядом друг с другом автоматически объединяются.</p>"
   ]
  },
  {
   "cell_type": "code",
   "execution_count": 36,
   "metadata": {},
   "outputs": [
    {
     "name": "stdout",
     "output_type": "stream",
     "text": [
      "How are you ?\n"
     ]
    }
   ],
   "source": [
    "print(\"How\", \"are you\", \"?\")"
   ]
  },
  {
   "cell_type": "code",
   "execution_count": 33,
   "metadata": {},
   "outputs": [
    {
     "name": "stdout",
     "output_type": "stream",
     "text": [
      "How are you?\n"
     ]
    }
   ],
   "source": [
    "print(\"How are\" + \" you?\")"
   ]
  },
  {
   "cell_type": "code",
   "execution_count": 34,
   "metadata": {},
   "outputs": [
    {
     "name": "stdout",
     "output_type": "stream",
     "text": [
      " very good! very good! very good! very good! very good!\n"
     ]
    }
   ],
   "source": [
    "print(\" very good!\" * 5)"
   ]
  },
  {
   "cell_type": "markdown",
   "metadata": {},
   "source": [
    "<p>Строки можно индексировать (обращаться к элементам строки по индексу), при этом первый символ имеет идекс 0. Отдельного типа для данных символов не существует, т.к. символ - это провтсо строка длиной в один символ.</p>\n",
    "<p>Индексы могут быть положительными и отрицательными. Для отрицательных индексов отсчет ведется справа.</p>\n"
   ]
  },
  {
   "cell_type": "markdown",
   "metadata": {},
   "source": [
    "|P|Y|T|H|O|N|\n",
    "|-|-|-|-|-|-|\n",
    "|0|1|2|3|4|5|\n",
    "|-6|-5|-4|-3|-2|-1|"
   ]
  },
  {
   "cell_type": "markdown",
   "metadata": {},
   "source": [
    "<p>Помимо индесирования строк также поддерживаются срезы. Если индексирование используется для извлечения отдельных символов, то срез возвращает подстроку. </p>\n",
    "<p>Начальный индекс всегда включается, а конечный всегда исключается.</p>\n",
    "<p>По умолчанию первый индекс равен нулю, опущенный второй индекс всегда равен длине строки.</p>\n",
    "<p>Строки Python нельзя изменить - они не изменяемы. Следовательно. Присвоить новое значение символу по определенному индексу нельзя! Если нужна новая строка, нужно ее создать.</p>\n",
    "<p>Встроенная функция len()  возвращает длину строки.</p>"
   ]
  },
  {
   "cell_type": "code",
   "execution_count": 21,
   "metadata": {},
   "outputs": [
    {
     "data": {
      "text/plain": [
       "'Py'"
      ]
     },
     "execution_count": 21,
     "metadata": {},
     "output_type": "execute_result"
    }
   ],
   "source": [
    "word = \"Python\"\n",
    "word[0:2]  # с позиции 0 (включительно) до 2 (не включая его)"
   ]
  },
  {
   "cell_type": "code",
   "execution_count": 22,
   "metadata": {},
   "outputs": [
    {
     "data": {
      "text/plain": [
       "6"
      ]
     },
     "execution_count": 22,
     "metadata": {},
     "output_type": "execute_result"
    }
   ],
   "source": [
    "len(word)"
   ]
  },
  {
   "cell_type": "markdown",
   "metadata": {},
   "source": [
    "### Синтаксис кода Python ###\n",
    "**1. Выражения**</p>\n",
    "<p>Строки, написанные в исходном коде для выполнения, называются ВЫРАЖЕНИЯМИ которые могут состоять из ОПЕРАТОРОВ разных типов, таких как оператор присваивания, условный оператор, оператор цикла и т.д. </p>\n",
    "<p>Выражения могут быть однострочными и многострочными. Многострочные выражения можно переносить на другие строки с помощью круглых скобок(), фигуных скобок {} , квардратных скобок [] , обратной косой черты \\ .</p>\n",
    "<p>В Python  конец строки означает конец выражения. Выражения можно написать в нескольких строках. Можно завершать выражение с помощью точки с запятой ;. За счет этого можно размещать несколько выражений в дной строке.</p>"
   ]
  },
  {
   "cell_type": "markdown",
   "metadata": {},
   "source": [
    "|Переменная|Оператор присваивания|Операнд|Оператор конкантенации|Операнд|\n",
    "|-|-|-|-|-|\n",
    "|X|=|2|+|3|"
   ]
  },
  {
   "cell_type": "code",
   "execution_count": 23,
   "metadata": {},
   "outputs": [],
   "source": [
    "number = 20  # это выражение с оператором присваивания"
   ]
  },
  {
   "cell_type": "code",
   "execution_count": 24,
   "metadata": {},
   "outputs": [
    {
     "data": {
      "text/plain": [
       "45"
      ]
     },
     "execution_count": 24,
     "metadata": {},
     "output_type": "execute_result"
    }
   ],
   "source": [
    "small = 1 + 2 + 3 + 4 + 5 + 6 + 7 + 8 + 9\n",
    "small"
   ]
  },
  {
   "cell_type": "code",
   "execution_count": 25,
   "metadata": {},
   "outputs": [
    {
     "data": {
      "text/plain": [
       "45"
      ]
     },
     "execution_count": 25,
     "metadata": {},
     "output_type": "execute_result"
    }
   ],
   "source": [
    "super_ = 1 + 2 + 3 + 4 + 5 + 6 + 7 + 8 + 9\n",
    "super_"
   ]
  },
  {
   "cell_type": "code",
   "execution_count": 42,
   "metadata": {},
   "outputs": [
    {
     "name": "stdout",
     "output_type": "stream",
     "text": [
      "['Zakieva Ekaterina']\n"
     ]
    }
   ],
   "source": [
    "name = [\"Zakieva\" + \" Ekaterina\"]\n",
    "print(name)"
   ]
  },
  {
   "cell_type": "code",
   "execution_count": 27,
   "metadata": {},
   "outputs": [
    {
     "data": {
      "text/plain": [
       "'Ekaterina Zakieva'"
      ]
     },
     "execution_count": 27,
     "metadata": {},
     "output_type": "execute_result"
    }
   ],
   "source": [
    "first_name = \"Ekaterina\"\n",
    "surname = \" Zakieva\"\n",
    "first_name + surname"
   ]
  },
  {
   "cell_type": "markdown",
   "metadata": {},
   "source": [
    "**2. Переменные**</p>\n",
    "<p>Переменная - это некоторое имя, связанное со значением. Переменная ссылается на значение, но не тождественна ему.Когда переменной присваивается другое значение, старое сразу становится недействительным. </p>\n",
    "<p>Для переменных следует выбирать имена со смыслом, которые что-то говорят о хранимых данных. Это важно для читабельности кода. </p>\n",
    "<p>Компактные, содержательные имена важны для удобочитаемости вашей программы.</p>\n",
    "\n",
    "**Схемы регистра имен**</p>\n",
    "<p>Так как в идентификаторах Python различается регистр символов и они не могут содержать пробельные символы, программисты используют несколько схем в идентификаторах, состоящих из нескольких слов.</p>\n",
    "<p>Змеиный регистр (snake_case) разделяет слова символом подчеркивания, который напоминает ползущую между словами змею. В этом случае все буквы записываются в нижнем регистре, а константы часто записываются в верхнем змеином регистре (UPPER_SNAKE_CASE).</p>\n",
    "<p>Верблюжий регистр (camelCase) — слова записываются в нижнем регистре, но второе и следующие слова начинаются с заглавной. Эта схема в большинстве случаев подразумевает, что первое слово начинается с буквы нижнего регистра. Буквы верхнего регистра напоминают верблюжьи горбы.</p>\n",
    "<p>Схема Pascal (PascalCase) — названа так, потому что применяется в языке программирования Pascal; аналогична схеме верблюжьего регистра, но первое слово в ней тоже начинается с заглавной.</p>\n",
    "\n",
    "**Соглашения об именах PEP 8**</p>\n",
    "__В документе PEP 8 (глава 3) приведены некоторые правила формирования имен в Python.__\n",
    "1. Все буквы должны быть буквами ASCII — то есть латинскими буквами верхнего и нижнего регистров без диакритических знаков.\n",
    "2. Имена модулей должны быть короткими и состоять только из букв нижнего регистра.\n",
    "3. Имена классов необходимо записывать в схеме Pascal.\n",
    "4. Имена констант следует записывать в верхнем змеином регистре.\n",
    "5. Имена функций, методов и переменных записывают в нижнем змеином регистре.\n",
    "6. Первый аргумент методов всегда должен называться self в нижнем регистре.\n",
    "7. Первый аргумент методов классов всегда должен называться cls в нижнем регистре.\n",
    "8. Приватные атрибуты классов всегда начинают с символа подчеркивания ( _ ).\n",
    "9. Публичные атрибуты классов никогда не начинают с символа подчеркивания ( _ )\n",
    "<p>PEP 8 содержит напоминание о том, что программист не обязан неуклонно следовать PEP 8. Важнейший фактор удобочитаемости — не выбор схемы, а последовательность в применении этой схемы.</p>\n",
    "\n"
   ]
  }
 ],
 "metadata": {
  "kernelspec": {
   "display_name": "Python 3",
   "language": "python",
   "name": "python3"
  },
  "language_info": {
   "codemirror_mode": {
    "name": "ipython",
    "version": 3
   },
   "file_extension": ".py",
   "mimetype": "text/x-python",
   "name": "python",
   "nbconvert_exporter": "python",
   "pygments_lexer": "ipython3",
   "version": "3.12.3"
  }
 },
 "nbformat": 4,
 "nbformat_minor": 2
}
