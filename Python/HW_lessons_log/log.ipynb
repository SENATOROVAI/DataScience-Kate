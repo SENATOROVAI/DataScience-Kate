{
 "cells": [
  {
   "cell_type": "code",
   "execution_count": null,
   "metadata": {},
   "outputs": [],
   "source": [
    "\"\"\"Логирование уроков.\"\"\""
   ]
  },
  {
   "cell_type": "markdown",
   "metadata": {},
   "source": [
    "<p> 07/11/2024\n",
    "Обновляли линтеры.\n",
    "Делали прекомит, чистили кэш, разбирались с трассировкой.\n",
    "Удалили файлы .py созданные с ошибками. \n",
    "Повторно произвели преобразование файлов .ipynb в файлы .py</p>"
   ]
  },
  {
   "cell_type": "markdown",
   "metadata": {},
   "source": []
  }
 ],
 "metadata": {
  "language_info": {
   "name": "python"
  }
 },
 "nbformat": 4,
 "nbformat_minor": 2
}
